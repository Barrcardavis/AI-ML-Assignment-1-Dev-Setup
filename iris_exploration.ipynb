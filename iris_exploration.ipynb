{
 "cells": [
  {
   "cell_type": "markdown",
   "id": "c3fa2178-e501-413b-80ad-5972624f2cee",
   "metadata": {},
   "source": [
    "##📦 Install Required Libraries (if needed) \n",
    "Use the following cells to install all necessary packages for this assignment.\n",
    "cells for library down load have been cleared to cut down on length"
   ]
  },
  {
   "cell_type": "code",
   "execution_count": null,
   "id": "ca1cac2f-aaec-47dd-a216-17607b411a90",
   "metadata": {},
   "outputs": [],
   "source": [
    "!pip install scikit-learn"
   ]
  },
  {
   "cell_type": "code",
   "execution_count": null,
   "id": "0ab1a857-b4e4-4b29-9e94-58b74c12516a",
   "metadata": {},
   "outputs": [],
   "source": [
    "!pip install pandas"
   ]
  },
  {
   "cell_type": "code",
   "execution_count": null,
   "id": "5d908557-db37-4d56-abf4-b0aa701bee62",
   "metadata": {},
   "outputs": [],
   "source": [
    "!pip install matplotlib seaborn numpy"
   ]
  },
  {
   "cell_type": "markdown",
   "id": "c4cd5585-301c-435f-8868-dcbf96228c35",
   "metadata": {},
   "source": [
    "# Iris Dataset Exploration  \n",
    "**Environment**: Python 3.11.13 (iris_env)  \n",
    "**Platform**: Jupyter Notebook via Anaconda  \n",
    "**Browser**: Edge  \n",
    "**Author**: David Davis  \n",
    "**Python Version**: 3.11.13  \n",
    "**Libraries**:  \n",
    "- pandas 2.1.0  \n",
    "- scikit-learn 1.3.1  \n",
    "- matplotlib 3.8.0  \n",
    "- seaborn 0.12.2  \n",
    "- numpy 1.26.0  "
   ]
  },
  {
   "cell_type": "markdown",
   "id": "c504817e-ba60-4c89-b4d1-ff813e3a3667",
   "metadata": {},
   "source": [
    "Data Upload"
   ]
  },
  {
   "cell_type": "code",
   "execution_count": 2,
   "id": "823c464a-f772-44b2-be8c-ff24cab9134e",
   "metadata": {},
   "outputs": [],
   "source": [
    "from sklearn.datasets import load_iris\n",
    "import pandas as pd\n",
    "\n",
    "iris = load_iris()\n",
    "df = pd.DataFrame(data=iris.data, columns=iris.feature_names)\n",
    "df['target'] = iris.target"
   ]
  },
  {
   "cell_type": "code",
   "execution_count": 9,
   "id": "bd9eafa5-2673-414d-b015-99ed2f310ef2",
   "metadata": {},
   "outputs": [
    {
     "data": {
      "text/html": [
       "<div>\n",
       "<style scoped>\n",
       "    .dataframe tbody tr th:only-of-type {\n",
       "        vertical-align: middle;\n",
       "    }\n",
       "\n",
       "    .dataframe tbody tr th {\n",
       "        vertical-align: top;\n",
       "    }\n",
       "\n",
       "    .dataframe thead th {\n",
       "        text-align: right;\n",
       "    }\n",
       "</style>\n",
       "<table border=\"1\" class=\"dataframe\">\n",
       "  <thead>\n",
       "    <tr style=\"text-align: right;\">\n",
       "      <th></th>\n",
       "      <th>sepal length (cm)</th>\n",
       "      <th>sepal width (cm)</th>\n",
       "      <th>petal length (cm)</th>\n",
       "      <th>petal width (cm)</th>\n",
       "      <th>target</th>\n",
       "    </tr>\n",
       "  </thead>\n",
       "  <tbody>\n",
       "    <tr>\n",
       "      <th>0</th>\n",
       "      <td>5.1</td>\n",
       "      <td>3.5</td>\n",
       "      <td>1.4</td>\n",
       "      <td>0.2</td>\n",
       "      <td>0</td>\n",
       "    </tr>\n",
       "    <tr>\n",
       "      <th>1</th>\n",
       "      <td>4.9</td>\n",
       "      <td>3.0</td>\n",
       "      <td>1.4</td>\n",
       "      <td>0.2</td>\n",
       "      <td>0</td>\n",
       "    </tr>\n",
       "    <tr>\n",
       "      <th>2</th>\n",
       "      <td>4.7</td>\n",
       "      <td>3.2</td>\n",
       "      <td>1.3</td>\n",
       "      <td>0.2</td>\n",
       "      <td>0</td>\n",
       "    </tr>\n",
       "    <tr>\n",
       "      <th>3</th>\n",
       "      <td>4.6</td>\n",
       "      <td>3.1</td>\n",
       "      <td>1.5</td>\n",
       "      <td>0.2</td>\n",
       "      <td>0</td>\n",
       "    </tr>\n",
       "    <tr>\n",
       "      <th>4</th>\n",
       "      <td>5.0</td>\n",
       "      <td>3.6</td>\n",
       "      <td>1.4</td>\n",
       "      <td>0.2</td>\n",
       "      <td>0</td>\n",
       "    </tr>\n",
       "  </tbody>\n",
       "</table>\n",
       "</div>"
      ],
      "text/plain": [
       "   sepal length (cm)  sepal width (cm)  petal length (cm)  petal width (cm)  \\\n",
       "0                5.1               3.5                1.4               0.2   \n",
       "1                4.9               3.0                1.4               0.2   \n",
       "2                4.7               3.2                1.3               0.2   \n",
       "3                4.6               3.1                1.5               0.2   \n",
       "4                5.0               3.6                1.4               0.2   \n",
       "\n",
       "   target  \n",
       "0       0  \n",
       "1       0  \n",
       "2       0  \n",
       "3       0  \n",
       "4       0  "
      ]
     },
     "execution_count": 9,
     "metadata": {},
     "output_type": "execute_result"
    }
   ],
   "source": [
    "df.head()"
   ]
  },
  {
   "cell_type": "code",
   "execution_count": 12,
   "id": "e150cd16-d4c5-40e5-8948-6930fd7fa545",
   "metadata": {},
   "outputs": [
    {
     "name": "stdout",
     "output_type": "stream",
     "text": [
      "<class 'pandas.core.frame.DataFrame'>\n",
      "RangeIndex: 150 entries, 0 to 149\n",
      "Data columns (total 5 columns):\n",
      " #   Column             Non-Null Count  Dtype  \n",
      "---  ------             --------------  -----  \n",
      " 0   sepal length (cm)  150 non-null    float64\n",
      " 1   sepal width (cm)   150 non-null    float64\n",
      " 2   petal length (cm)  150 non-null    float64\n",
      " 3   petal width (cm)   150 non-null    float64\n",
      " 4   target             150 non-null    int64  \n",
      "dtypes: float64(4), int64(1)\n",
      "memory usage: 6.0 KB\n"
     ]
    }
   ],
   "source": [
    "df.info()\n"
   ]
  },
  {
   "cell_type": "code",
   "execution_count": 13,
   "id": "73fcc404-8dac-4b3f-afd3-455a8228d4e7",
   "metadata": {},
   "outputs": [
    {
     "data": {
      "text/html": [
       "<div>\n",
       "<style scoped>\n",
       "    .dataframe tbody tr th:only-of-type {\n",
       "        vertical-align: middle;\n",
       "    }\n",
       "\n",
       "    .dataframe tbody tr th {\n",
       "        vertical-align: top;\n",
       "    }\n",
       "\n",
       "    .dataframe thead th {\n",
       "        text-align: right;\n",
       "    }\n",
       "</style>\n",
       "<table border=\"1\" class=\"dataframe\">\n",
       "  <thead>\n",
       "    <tr style=\"text-align: right;\">\n",
       "      <th></th>\n",
       "      <th>sepal length (cm)</th>\n",
       "      <th>sepal width (cm)</th>\n",
       "      <th>petal length (cm)</th>\n",
       "      <th>petal width (cm)</th>\n",
       "      <th>target</th>\n",
       "    </tr>\n",
       "  </thead>\n",
       "  <tbody>\n",
       "    <tr>\n",
       "      <th>count</th>\n",
       "      <td>150.000000</td>\n",
       "      <td>150.000000</td>\n",
       "      <td>150.000000</td>\n",
       "      <td>150.000000</td>\n",
       "      <td>150.000000</td>\n",
       "    </tr>\n",
       "    <tr>\n",
       "      <th>mean</th>\n",
       "      <td>5.843333</td>\n",
       "      <td>3.057333</td>\n",
       "      <td>3.758000</td>\n",
       "      <td>1.199333</td>\n",
       "      <td>1.000000</td>\n",
       "    </tr>\n",
       "    <tr>\n",
       "      <th>std</th>\n",
       "      <td>0.828066</td>\n",
       "      <td>0.435866</td>\n",
       "      <td>1.765298</td>\n",
       "      <td>0.762238</td>\n",
       "      <td>0.819232</td>\n",
       "    </tr>\n",
       "    <tr>\n",
       "      <th>min</th>\n",
       "      <td>4.300000</td>\n",
       "      <td>2.000000</td>\n",
       "      <td>1.000000</td>\n",
       "      <td>0.100000</td>\n",
       "      <td>0.000000</td>\n",
       "    </tr>\n",
       "    <tr>\n",
       "      <th>25%</th>\n",
       "      <td>5.100000</td>\n",
       "      <td>2.800000</td>\n",
       "      <td>1.600000</td>\n",
       "      <td>0.300000</td>\n",
       "      <td>0.000000</td>\n",
       "    </tr>\n",
       "    <tr>\n",
       "      <th>50%</th>\n",
       "      <td>5.800000</td>\n",
       "      <td>3.000000</td>\n",
       "      <td>4.350000</td>\n",
       "      <td>1.300000</td>\n",
       "      <td>1.000000</td>\n",
       "    </tr>\n",
       "    <tr>\n",
       "      <th>75%</th>\n",
       "      <td>6.400000</td>\n",
       "      <td>3.300000</td>\n",
       "      <td>5.100000</td>\n",
       "      <td>1.800000</td>\n",
       "      <td>2.000000</td>\n",
       "    </tr>\n",
       "    <tr>\n",
       "      <th>max</th>\n",
       "      <td>7.900000</td>\n",
       "      <td>4.400000</td>\n",
       "      <td>6.900000</td>\n",
       "      <td>2.500000</td>\n",
       "      <td>2.000000</td>\n",
       "    </tr>\n",
       "  </tbody>\n",
       "</table>\n",
       "</div>"
      ],
      "text/plain": [
       "       sepal length (cm)  sepal width (cm)  petal length (cm)  \\\n",
       "count         150.000000        150.000000         150.000000   \n",
       "mean            5.843333          3.057333           3.758000   \n",
       "std             0.828066          0.435866           1.765298   \n",
       "min             4.300000          2.000000           1.000000   \n",
       "25%             5.100000          2.800000           1.600000   \n",
       "50%             5.800000          3.000000           4.350000   \n",
       "75%             6.400000          3.300000           5.100000   \n",
       "max             7.900000          4.400000           6.900000   \n",
       "\n",
       "       petal width (cm)      target  \n",
       "count        150.000000  150.000000  \n",
       "mean           1.199333    1.000000  \n",
       "std            0.762238    0.819232  \n",
       "min            0.100000    0.000000  \n",
       "25%            0.300000    0.000000  \n",
       "50%            1.300000    1.000000  \n",
       "75%            1.800000    2.000000  \n",
       "max            2.500000    2.000000  "
      ]
     },
     "execution_count": 13,
     "metadata": {},
     "output_type": "execute_result"
    }
   ],
   "source": [
    "df.describe()"
   ]
  },
  {
   "cell_type": "code",
   "execution_count": 14,
   "id": "5625c4e0-874d-4dac-8e30-f245f7a91ef0",
   "metadata": {},
   "outputs": [
    {
     "data": {
      "text/plain": [
       "target\n",
       "0    50\n",
       "1    50\n",
       "2    50\n",
       "Name: count, dtype: int64"
      ]
     },
     "execution_count": 14,
     "metadata": {},
     "output_type": "execute_result"
    }
   ],
   "source": [
    "df['target'].value_counts()"
   ]
  },
  {
   "cell_type": "code",
   "execution_count": 15,
   "id": "006989bb-2b0c-4939-a909-3dba29595eba",
   "metadata": {},
   "outputs": [
    {
     "data": {
      "image/png": "[encoded data removed]",
      "text/plain": [
       "<Figure size 640x480 with 1 Axes>"
      ]
     },
     "metadata": {},
     "output_type": "display_data"
    }
   ],
   "source": [
    "import matplotlib.pyplot as plt\n",
    "plt.hist(df['petal length (cm)'], bins=20, color='skyblue')\n",
    "plt.title('Petal Length Distribution')\n",
    "plt.xlabel('Petal Length (cm)')\n",
    "plt.ylabel('Frequency')\n",
    "plt.show()"
   ]
  },
  {
   "cell_type": "code",
   "execution_count": 16,
   "id": "dcbe1eef-115c-42f0-b8fa-8c14a539920c",
   "metadata": {},
   "outputs": [
    {
     "data": {
      "image/png": "[encoded data removed]",
      "text/plain": [
       "<Figure size 640x480 with 1 Axes>"
      ]
     },
     "metadata": {},
     "output_type": "display_data"
    }
   ],
   "source": [
    "import seaborn as sns\n",
    "sns.boxplot(x=df['target'], y=df['sepal width (cm)'])\n",
    "plt.title('Sepal Width by Species')\n",
    "plt.xlabel('Species')\n",
    "plt.ylabel('Sepal Width (cm)')\n",
    "plt.show()"
   ]
  },
  {
   "cell_type": "code",
   "execution_count": 17,
   "id": "3bd1cbfb-2a1c-47ed-88e6-aa9820b6beee",
   "metadata": {},
   "outputs": [
    {
     "data": {
      "image/png": "[encoded data removed]",
      "text/plain": [
       "<Figure size 640x480 with 1 Axes>"
      ]
     },
     "metadata": {},
     "output_type": "display_data"
    }
   ],
   "source": [
    "sns.scatterplot(x='petal length (cm)', y='petal width (cm)', hue='target', data=df, palette='Set2')\n",
    "plt.title('Petal Length vs Width by Species')\n",
    "plt.show()"
   ]
  },
  {
   "cell_type": "code",
   "execution_count": 3,
   "id": "bd7a0d6d-3a0c-463e-ac8e-a0f87d38b023",
   "metadata": {},
   "outputs": [
    {
     "name": "stdout",
     "output_type": "stream",
     "text": [
      "     sepal length (cm)  sepal width (cm)  petal length (cm)  petal width (cm)  target\n",
      "0                  5.1               3.5                1.4               0.2       0\n",
      "1                  4.9               3.0                1.4               0.2       0\n",
      "2                  4.7               3.2                1.3               0.2       0\n",
      "3                  4.6               3.1                1.5               0.2       0\n",
      "4                  5.0               3.6                1.4               0.2       0\n",
      "5                  5.4               3.9                1.7               0.4       0\n",
      "6                  4.6               3.4                1.4               0.3       0\n",
      "7                  5.0               3.4                1.5               0.2       0\n",
      "8                  4.4               2.9                1.4               0.2       0\n",
      "9                  4.9               3.1                1.5               0.1       0\n",
      "10                 5.4               3.7                1.5               0.2       0\n",
      "11                 4.8               3.4                1.6               0.2       0\n",
      "12                 4.8               3.0                1.4               0.1       0\n",
      "13                 4.3               3.0                1.1               0.1       0\n",
      "14                 5.8               4.0                1.2               0.2       0\n",
      "15                 5.7               4.4                1.5               0.4       0\n",
      "16                 5.4               3.9                1.3               0.4       0\n",
      "17                 5.1               3.5                1.4               0.3       0\n",
      "18                 5.7               3.8                1.7               0.3       0\n",
      "19                 5.1               3.8                1.5               0.3       0\n",
      "20                 5.4               3.4                1.7               0.2       0\n",
      "21                 5.1               3.7                1.5               0.4       0\n",
      "22                 4.6               3.6                1.0               0.2       0\n",
      "23                 5.1               3.3                1.7               0.5       0\n",
      "24                 4.8               3.4                1.9               0.2       0\n",
      "25                 5.0               3.0                1.6               0.2       0\n",
      "26                 5.0               3.4                1.6               0.4       0\n",
      "27                 5.2               3.5                1.5               0.2       0\n",
      "28                 5.2               3.4                1.4               0.2       0\n",
      "29                 4.7               3.2                1.6               0.2       0\n",
      "30                 4.8               3.1                1.6               0.2       0\n",
      "31                 5.4               3.4                1.5               0.4       0\n",
      "32                 5.2               4.1                1.5               0.1       0\n",
      "33                 5.5               4.2                1.4               0.2       0\n",
      "34                 4.9               3.1                1.5               0.2       0\n",
      "35                 5.0               3.2                1.2               0.2       0\n",
      "36                 5.5               3.5                1.3               0.2       0\n",
      "37                 4.9               3.6                1.4               0.1       0\n",
      "38                 4.4               3.0                1.3               0.2       0\n",
      "39                 5.1               3.4                1.5               0.2       0\n",
      "40                 5.0               3.5                1.3               0.3       0\n",
      "41                 4.5               2.3                1.3               0.3       0\n",
      "42                 4.4               3.2                1.3               0.2       0\n",
      "43                 5.0               3.5                1.6               0.6       0\n",
      "44                 5.1               3.8                1.9               0.4       0\n",
      "45                 4.8               3.0                1.4               0.3       0\n",
      "46                 5.1               3.8                1.6               0.2       0\n",
      "47                 4.6               3.2                1.4               0.2       0\n",
      "48                 5.3               3.7                1.5               0.2       0\n",
      "49                 5.0               3.3                1.4               0.2       0\n",
      "50                 7.0               3.2                4.7               1.4       1\n",
      "51                 6.4               3.2                4.5               1.5       1\n",
      "52                 6.9               3.1                4.9               1.5       1\n",
      "53                 5.5               2.3                4.0               1.3       1\n",
      "54                 6.5               2.8                4.6               1.5       1\n",
      "55                 5.7               2.8                4.5               1.3       1\n",
      "56                 6.3               3.3                4.7               1.6       1\n",
      "57                 4.9               2.4                3.3               1.0       1\n",
      "58                 6.6               2.9                4.6               1.3       1\n",
      "59                 5.2               2.7                3.9               1.4       1\n",
      "60                 5.0               2.0                3.5               1.0       1\n",
      "61                 5.9               3.0                4.2               1.5       1\n",
      "62                 6.0               2.2                4.0               1.0       1\n",
      "63                 6.1               2.9                4.7               1.4       1\n",
      "64                 5.6               2.9                3.6               1.3       1\n",
      "65                 6.7               3.1                4.4               1.4       1\n",
      "66                 5.6               3.0                4.5               1.5       1\n",
      "67                 5.8               2.7                4.1               1.0       1\n",
      "68                 6.2               2.2                4.5               1.5       1\n",
      "69                 5.6               2.5                3.9               1.1       1\n",
      "70                 5.9               3.2                4.8               1.8       1\n",
      "71                 6.1               2.8                4.0               1.3       1\n",
      "72                 6.3               2.5                4.9               1.5       1\n",
      "73                 6.1               2.8                4.7               1.2       1\n",
      "74                 6.4               2.9                4.3               1.3       1\n",
      "75                 6.6               3.0                4.4               1.4       1\n",
      "76                 6.8               2.8                4.8               1.4       1\n",
      "77                 6.7               3.0                5.0               1.7       1\n",
      "78                 6.0               2.9                4.5               1.5       1\n",
      "79                 5.7               2.6                3.5               1.0       1\n",
      "80                 5.5               2.4                3.8               1.1       1\n",
      "81                 5.5               2.4                3.7               1.0       1\n",
      "82                 5.8               2.7                3.9               1.2       1\n",
      "83                 6.0               2.7                5.1               1.6       1\n",
      "84                 5.4               3.0                4.5               1.5       1\n",
      "85                 6.0               3.4                4.5               1.6       1\n",
      "86                 6.7               3.1                4.7               1.5       1\n",
      "87                 6.3               2.3                4.4               1.3       1\n",
      "88                 5.6               3.0                4.1               1.3       1\n",
      "89                 5.5               2.5                4.0               1.3       1\n",
      "90                 5.5               2.6                4.4               1.2       1\n",
      "91                 6.1               3.0                4.6               1.4       1\n",
      "92                 5.8               2.6                4.0               1.2       1\n",
      "93                 5.0               2.3                3.3               1.0       1\n",
      "94                 5.6               2.7                4.2               1.3       1\n",
      "95                 5.7               3.0                4.2               1.2       1\n",
      "96                 5.7               2.9                4.2               1.3       1\n",
      "97                 6.2               2.9                4.3               1.3       1\n",
      "98                 5.1               2.5                3.0               1.1       1\n",
      "99                 5.7               2.8                4.1               1.3       1\n",
      "100                6.3               3.3                6.0               2.5       2\n",
      "101                5.8               2.7                5.1               1.9       2\n",
      "102                7.1               3.0                5.9               2.1       2\n",
      "103                6.3               2.9                5.6               1.8       2\n",
      "104                6.5               3.0                5.8               2.2       2\n",
      "105                7.6               3.0                6.6               2.1       2\n",
      "106                4.9               2.5                4.5               1.7       2\n",
      "107                7.3               2.9                6.3               1.8       2\n",
      "108                6.7               2.5                5.8               1.8       2\n",
      "109                7.2               3.6                6.1               2.5       2\n",
      "110                6.5               3.2                5.1               2.0       2\n",
      "111                6.4               2.7                5.3               1.9       2\n",
      "112                6.8               3.0                5.5               2.1       2\n",
      "113                5.7               2.5                5.0               2.0       2\n",
      "114                5.8               2.8                5.1               2.4       2\n",
      "115                6.4               3.2                5.3               2.3       2\n",
      "116                6.5               3.0                5.5               1.8       2\n",
      "117                7.7               3.8                6.7               2.2       2\n",
      "118                7.7               2.6                6.9               2.3       2\n",
      "119                6.0               2.2                5.0               1.5       2\n",
      "120                6.9               3.2                5.7               2.3       2\n",
      "121                5.6               2.8                4.9               2.0       2\n",
      "122                7.7               2.8                6.7               2.0       2\n",
      "123                6.3               2.7                4.9               1.8       2\n",
      "124                6.7               3.3                5.7               2.1       2\n",
      "125                7.2               3.2                6.0               1.8       2\n",
      "126                6.2               2.8                4.8               1.8       2\n",
      "127                6.1               3.0                4.9               1.8       2\n",
      "128                6.4               2.8                5.6               2.1       2\n",
      "129                7.2               3.0                5.8               1.6       2\n",
      "130                7.4               2.8                6.1               1.9       2\n",
      "131                7.9               3.8                6.4               2.0       2\n",
      "132                6.4               2.8                5.6               2.2       2\n",
      "133                6.3               2.8                5.1               1.5       2\n",
      "134                6.1               2.6                5.6               1.4       2\n",
      "135                7.7               3.0                6.1               2.3       2\n",
      "136                6.3               3.4                5.6               2.4       2\n",
      "137                6.4               3.1                5.5               1.8       2\n",
      "138                6.0               3.0                4.8               1.8       2\n",
      "139                6.9               3.1                5.4               2.1       2\n",
      "140                6.7               3.1                5.6               2.4       2\n",
      "141                6.9               3.1                5.1               2.3       2\n",
      "142                5.8               2.7                5.1               1.9       2\n",
      "143                6.8               3.2                5.9               2.3       2\n",
      "144                6.7               3.3                5.7               2.5       2\n",
      "145                6.7               3.0                5.2               2.3       2\n",
      "146                6.3               2.5                5.0               1.9       2\n",
      "147                6.5               3.0                5.2               2.0       2\n",
      "148                6.2               3.4                5.4               2.3       2\n",
      "149                5.9               3.0                5.1               1.8       2\n"
     ]
    }
   ],
   "source": [
    "print(df.to_string())"
   ]
  },
  {
   "cell_type": "code",
   "execution_count": null,
   "id": "fd32fdc5-5f6b-4548-a5e3-ec52dd9208cd",
   "metadata": {},
   "outputs": [],
   "source": []
  }
 ],
 "metadata": {
  "kernelspec": {
   "display_name": "Python [conda env:anaconda3-Iris_env]",
   "language": "python",
   "name": "conda-env-anaconda3-Iris_env-py"
  },
  "language_info": {
   "codemirror_mode": {
    "name": "ipython",
    "version": 3
   },
   "file_extension": ".py",
   "mimetype": "text/x-python",
   "name": "python",
   "nbconvert_exporter": "python",
   "pygments_lexer": "ipython3",
   "version": "3.11.13"
  }
 },
 "nbformat": 4,
 "nbformat_minor": 5
}
